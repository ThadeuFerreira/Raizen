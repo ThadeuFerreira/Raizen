{
  "nbformat": 4,
  "nbformat_minor": 0,
  "metadata": {
    "colab": {
      "name": "Untitled0.ipynb",
      "provenance": []
    },
    "kernelspec": {
      "name": "python3",
      "display_name": "Python 3"
    },
    "language_info": {
      "name": "python"
    }
  },
  "cells": [
    {
      "cell_type": "code",
      "metadata": {
        "colab": {
          "base_uri": "https://localhost:8080/"
        },
        "id": "LXS7lv9_QwgZ",
        "outputId": "fa8e34f2-ab0b-4b93-c681-fc9fdc198c24"
      },
      "source": [
        "!pip install pyspark\n",
        "!pip install xlrd\n"
      ],
      "execution_count": 125,
      "outputs": [
        {
          "output_type": "stream",
          "name": "stdout",
          "text": [
            "Requirement already satisfied: pyspark in /usr/local/lib/python3.7/dist-packages (3.2.1)\n",
            "Requirement already satisfied: py4j==0.10.9.3 in /usr/local/lib/python3.7/dist-packages (from pyspark) (0.10.9.3)\n",
            "Requirement already satisfied: xlrd in /usr/local/lib/python3.7/dist-packages (1.1.0)\n"
          ]
        }
      ]
    },
    {
      "cell_type": "code",
      "metadata": {
        "id": "4end66KbQ2fn"
      },
      "source": [
        "import xlrd \n",
        "from pyspark.sql import SparkSession\n",
        "from pyspark.sql import functions as F\n",
        "from pyspark.sql.functions import udf,col\n",
        "from pyspark.sql.types import StringType\n",
        "from pyspark.sql.functions import col, explode, array, struct, expr, sum, lit  \n",
        "from pyspark.sql.functions import concat, concat_ws, lit, col, trim, to_date\n",
        "import datetime"
      ],
      "execution_count": 188,
      "outputs": []
    },
    {
      "cell_type": "code",
      "source": [
        "wb = xlrd.open_workbook('vendas-combustiveis-m3.xls')"
      ],
      "metadata": {
        "id": "djIHPYyEY4Ru"
      },
      "execution_count": 170,
      "outputs": []
    },
    {
      "cell_type": "code",
      "metadata": {
        "id": "3BclUMh4RRDm"
      },
      "source": [
        "sheet_names = [name for name in wb.sheet_names() if name != 'Plan1']\n",
        "data = []\n",
        "columns = wb.sheet_by_name(sheet_names[0]).row_values(0)\n",
        "for sheet_name in sheet_names:\n",
        "    sheet = wb.sheet_by_name(sheet_name)\n",
        "    ncols = sheet.ncols\n",
        "    nrows = sheet.nrows\n",
        "    for i in range(nrows):\n",
        "        if i > 0:\n",
        "            data.append(sheet.row_values(i))"
      ],
      "execution_count": 171,
      "outputs": []
    },
    {
      "cell_type": "code",
      "source": [
        "for i in range(len(data)):\n",
        "  for k in range(len(data[i])):\n",
        "    if data[i][k] == '':\n",
        "      data[i][k] = 0.0"
      ],
      "metadata": {
        "id": "WTvDXBobZfi_"
      },
      "execution_count": 172,
      "outputs": []
    },
    {
      "cell_type": "code",
      "source": [
        "for i in data:\n",
        "  if len(i) != 18:\n",
        "    print(len(i))"
      ],
      "metadata": {
        "id": "F0xDZKtSaErM"
      },
      "execution_count": 173,
      "outputs": []
    },
    {
      "cell_type": "code",
      "metadata": {
        "id": "QpsZSxAmRv9m"
      },
      "source": [
        "spark = SparkSession.builder.appName('sparkdf').getOrCreate()\n",
        "df = spark.createDataFrame(data, columns).drop('TOTAL')\n",
        "df = df.withColumn(\"ANO\", F.round(df[\"ANO\"]).cast('integer'))"
      ],
      "execution_count": 174,
      "outputs": []
    },
    {
      "cell_type": "code",
      "source": [
        "df.show()"
      ],
      "metadata": {
        "colab": {
          "base_uri": "https://localhost:8080/"
        },
        "id": "sk8LzbjCb0fR",
        "outputId": "984d991e-08b3-4af2-a0da-25d4f322ac0c"
      },
      "execution_count": 175,
      "outputs": [
        {
          "output_type": "stream",
          "name": "stdout",
          "text": [
            "+---------------+----+---------------+-------------------+-------+----------+----------+----------+----------+----------+----------+----------+----------+----------+----------+----------+----------+\n",
            "|    COMBUSTÍVEL| ANO|         REGIÃO|             ESTADO|UNIDADE|       Jan|       Fev|       Mar|       Abr|       Mai|       Jun|       Jul|       Ago|       Set|       Out|       Nov|       Dez|\n",
            "+---------------+----+---------------+-------------------+-------+----------+----------+----------+----------+----------+----------+----------+----------+----------+----------+----------+----------+\n",
            "|GASOLINA C (m3)|2000|   REGIÃO NORTE|           RONDÔNIA|     m3|  9563.263| 11341.229|  9369.746| 10719.983| 11165.968| 12312.451|  11220.97| 12482.281| 13591.122|  11940.57| 11547.576| 10818.094|\n",
            "|GASOLINA C (m3)|2000|   REGIÃO NORTE|               ACRE|     m3|  3065.758|   3495.29|   2946.93|   3023.92|   3206.93|   3612.58|   3264.46|   3835.74|  3676.571|   3225.61|  3289.718|  3358.346|\n",
            "|GASOLINA C (m3)|2000|   REGIÃO NORTE|           AMAZONAS|     m3| 17615.604|   20258.2| 18741.344| 19604.023| 20221.674| 20792.616| 19912.898| 21869.338| 21145.643| 20633.175| 20766.918| 21180.919|\n",
            "|GASOLINA C (m3)|2000|   REGIÃO NORTE|            RORAIMA|     m3|    3259.3|  3636.216|  3631.569|  3348.416|  3394.016|  4078.616|  3346.616|    4029.9|  4358.516|  3716.032|    3200.4|  3339.332|\n",
            "|GASOLINA C (m3)|2000|   REGIÃO NORTE|               PARÁ|     m3| 28830.479| 32297.047| 27310.979| 29396.384| 26511.009|  36553.25|  31807.84| 31009.972| 29755.907| 28661.951| 28145.784| 29294.796|\n",
            "|GASOLINA C (m3)|2000|   REGIÃO NORTE|              AMAPÁ|     m3|   3456.35|   4092.25|    3395.6|    3613.7|   3533.05|    4387.1|    3541.0|    4096.7|    4374.2|   3917.75|    3779.9|  4068.216|\n",
            "|GASOLINA C (m3)|2000|   REGIÃO NORTE|          TOCANTINS|     m3|  6961.518|  7027.916|   6616.28|  6699.691|   7174.92|   8479.58|   8046.45|   7734.34|  8267.903|  7398.315|  7153.283|  7522.171|\n",
            "|GASOLINA C (m3)|2000|REGIÃO NORDESTE|           MARANHÃO|     m3|  16751.08| 17985.405|  15357.75| 15875.728|  16719.97| 19185.495|  18027.96|  18185.91|  19684.36| 17944.756| 17643.608| 17730.675|\n",
            "|GASOLINA C (m3)|2000|REGIÃO NORDESTE|              PIAUÍ|     m3|    8452.2|    9584.7|   7626.11|   8282.35|   9638.45|   10861.4|  10473.45| 10857.385| 11773.193| 10630.465| 10592.222| 10952.369|\n",
            "|GASOLINA C (m3)|2000|REGIÃO NORDESTE|              CEARÁ|     m3| 38492.506| 40179.297| 37092.083| 36847.944| 39146.176| 41110.491| 38988.768| 39539.664|  41027.53| 39412.808| 38923.274| 40867.267|\n",
            "|GASOLINA C (m3)|2000|REGIÃO NORDESTE|RIO GRANDE DO NORTE|     m3|   19130.2|  18901.67|  17949.95|   17620.6|  18024.05|  19198.35|  16607.65| 19082.537| 19266.204| 18467.781| 18534.865| 19630.397|\n",
            "|GASOLINA C (m3)|2000|REGIÃO NORDESTE|            PARAÍBA|     m3| 20166.052| 20266.851| 17760.866|   18774.2|  19128.15|  18352.35|   15439.8| 16998.465| 18352.772| 17453.257| 18325.781| 19422.052|\n",
            "|GASOLINA C (m3)|2000|REGIÃO NORDESTE|         PERNAMBUCO|     m3| 51905.707| 62859.575| 51836.615| 52069.116| 54715.623|  51551.63|  43244.78| 45798.134| 47324.825| 46358.883| 49191.749| 52270.868|\n",
            "|GASOLINA C (m3)|2000|REGIÃO NORDESTE|            ALAGOAS|     m3|  14001.15| 13998.008| 12592.121|  13921.15| 13962.816|   13676.4| 12461.124|  13174.12| 14419.916| 13613.576| 13934.106| 14793.822|\n",
            "|GASOLINA C (m3)|2000|REGIÃO NORDESTE|            SERGIPE|     m3| 12292.884| 13170.942| 12177.374| 11931.134| 12751.083| 12999.466|   11471.1|  12407.15| 12762.904| 12436.107| 12044.863| 12707.571|\n",
            "|GASOLINA C (m3)|2000|REGIÃO NORDESTE|              BAHIA|     m3| 79545.219| 81350.125| 73081.355| 72319.496| 74122.654| 82607.784| 74717.746| 78765.903|  79296.13| 76163.319| 73630.193|  81414.03|\n",
            "|GASOLINA C (m3)|2000| REGIÃO SUDESTE|       MINAS GERAIS|     m3|182555.481|195290.073|181880.336|193518.502| 194328.45|211011.796|184604.726|190733.143|198022.385|  197289.3| 191359.24|203730.277|\n",
            "|GASOLINA C (m3)|2000| REGIÃO SUDESTE|     ESPÍRITO SANTO|     m3| 43744.621| 45926.085| 42766.428| 48544.384| 52672.001| 58173.434| 33076.898| 32311.973| 34425.525| 34969.853| 33811.764| 36915.407|\n",
            "|GASOLINA C (m3)|2000| REGIÃO SUDESTE|     RIO DE JANEIRO|     m3|152471.323|154445.574|137874.316|142844.469|133011.979|157785.971| 154662.82|162775.786|159455.064|170050.562|153214.082|169155.095|\n",
            "|GASOLINA C (m3)|2000| REGIÃO SUDESTE|          SÃO PAULO|     m3|579928.009|643248.094| 605500.41|618650.177|614461.497|652318.912|575302.161|598991.152|603057.697|652425.419|627900.045|656697.245|\n",
            "+---------------+----+---------------+-------------------+-------+----------+----------+----------+----------+----------+----------+----------+----------+----------+----------+----------+----------+\n",
            "only showing top 20 rows\n",
            "\n"
          ]
        }
      ]
    },
    {
      "cell_type": "code",
      "metadata": {
        "id": "aSQuZUv3R7lS"
      },
      "source": [
        "def to_explode(df, by):\n",
        "\n",
        "    # Filter dtypes and split into column names and type description\n",
        "    cols, dtypes = zip(*((c, t) for (c, t) in df.dtypes if c not in by))\n",
        "    # Spark SQL supports only homogeneous columns\n",
        "    assert len(set(dtypes)) == 1, \"All columns have to be of the same type\"\n",
        "\n",
        "    # Create and explode an array of (column_name, column_value) structs\n",
        "    kvs = explode(array([\n",
        "      struct(lit(c).alias(\"MES\"), col(c).alias(\"VOLUME\")) for c in cols\n",
        "    ])).alias(\"kvs\")\n",
        "\n",
        "    return df.select(by + [kvs]).select(by + [\"kvs.MES\", \"kvs.VOLUME\"])"
      ],
      "execution_count": 176,
      "outputs": []
    },
    {
      "cell_type": "code",
      "source": [
        "df2 = to_explode(df, ['COMBUSTÍVEL', 'ANO', 'REGIÃO', 'ESTADO', 'UNIDADE'])"
      ],
      "metadata": {
        "id": "Rexlocy8dqPR"
      },
      "execution_count": 177,
      "outputs": []
    },
    {
      "cell_type": "code",
      "source": [
        "df2.show()"
      ],
      "metadata": {
        "colab": {
          "base_uri": "https://localhost:8080/"
        },
        "id": "g4VVc5q2eYlS",
        "outputId": "e5f36373-23ec-450e-d2e1-ce15e818391c"
      },
      "execution_count": 178,
      "outputs": [
        {
          "output_type": "stream",
          "name": "stdout",
          "text": [
            "+---------------+----+------------+--------+-------+---+---------+\n",
            "|    COMBUSTÍVEL| ANO|      REGIÃO|  ESTADO|UNIDADE|MES|   VOLUME|\n",
            "+---------------+----+------------+--------+-------+---+---------+\n",
            "|GASOLINA C (m3)|2000|REGIÃO NORTE|RONDÔNIA|     m3|Jan| 9563.263|\n",
            "|GASOLINA C (m3)|2000|REGIÃO NORTE|RONDÔNIA|     m3|Fev|11341.229|\n",
            "|GASOLINA C (m3)|2000|REGIÃO NORTE|RONDÔNIA|     m3|Mar| 9369.746|\n",
            "|GASOLINA C (m3)|2000|REGIÃO NORTE|RONDÔNIA|     m3|Abr|10719.983|\n",
            "|GASOLINA C (m3)|2000|REGIÃO NORTE|RONDÔNIA|     m3|Mai|11165.968|\n",
            "|GASOLINA C (m3)|2000|REGIÃO NORTE|RONDÔNIA|     m3|Jun|12312.451|\n",
            "|GASOLINA C (m3)|2000|REGIÃO NORTE|RONDÔNIA|     m3|Jul| 11220.97|\n",
            "|GASOLINA C (m3)|2000|REGIÃO NORTE|RONDÔNIA|     m3|Ago|12482.281|\n",
            "|GASOLINA C (m3)|2000|REGIÃO NORTE|RONDÔNIA|     m3|Set|13591.122|\n",
            "|GASOLINA C (m3)|2000|REGIÃO NORTE|RONDÔNIA|     m3|Out| 11940.57|\n",
            "|GASOLINA C (m3)|2000|REGIÃO NORTE|RONDÔNIA|     m3|Nov|11547.576|\n",
            "|GASOLINA C (m3)|2000|REGIÃO NORTE|RONDÔNIA|     m3|Dez|10818.094|\n",
            "|GASOLINA C (m3)|2000|REGIÃO NORTE|    ACRE|     m3|Jan| 3065.758|\n",
            "|GASOLINA C (m3)|2000|REGIÃO NORTE|    ACRE|     m3|Fev|  3495.29|\n",
            "|GASOLINA C (m3)|2000|REGIÃO NORTE|    ACRE|     m3|Mar|  2946.93|\n",
            "|GASOLINA C (m3)|2000|REGIÃO NORTE|    ACRE|     m3|Abr|  3023.92|\n",
            "|GASOLINA C (m3)|2000|REGIÃO NORTE|    ACRE|     m3|Mai|  3206.93|\n",
            "|GASOLINA C (m3)|2000|REGIÃO NORTE|    ACRE|     m3|Jun|  3612.58|\n",
            "|GASOLINA C (m3)|2000|REGIÃO NORTE|    ACRE|     m3|Jul|  3264.46|\n",
            "|GASOLINA C (m3)|2000|REGIÃO NORTE|    ACRE|     m3|Ago|  3835.74|\n",
            "+---------------+----+------------+--------+-------+---+---------+\n",
            "only showing top 20 rows\n",
            "\n"
          ]
        }
      ]
    },
    {
      "cell_type": "code",
      "metadata": {
        "id": "qvbntPLWSf6T"
      },
      "source": [
        "map_mes = {}\n",
        "count = 1\n",
        "for i in ['Jan', 'Fev',\n",
        "       'Mar', 'Abr', 'Mai', 'Jun', 'Jul', 'Ago', 'Set', 'Out', 'Nov', 'Dez']:\n",
        "    \n",
        "    map_mes[i] = str(count) if count >= 10 else '0'+ str(count) \n",
        "    count += 1"
      ],
      "execution_count": 179,
      "outputs": []
    },
    {
      "cell_type": "code",
      "source": [
        "map_mes"
      ],
      "metadata": {
        "colab": {
          "base_uri": "https://localhost:8080/"
        },
        "id": "op2cnXNArcRR",
        "outputId": "d7026082-aa76-4d0b-9416-50140f956654"
      },
      "execution_count": 180,
      "outputs": [
        {
          "output_type": "execute_result",
          "data": {
            "text/plain": [
              "{'Abr': '04',\n",
              " 'Ago': '08',\n",
              " 'Dez': '12',\n",
              " 'Fev': '02',\n",
              " 'Jan': '01',\n",
              " 'Jul': '07',\n",
              " 'Jun': '06',\n",
              " 'Mai': '05',\n",
              " 'Mar': '03',\n",
              " 'Nov': '11',\n",
              " 'Out': '10',\n",
              " 'Set': '09'}"
            ]
          },
          "metadata": {},
          "execution_count": 180
        }
      ]
    },
    {
      "cell_type": "code",
      "source": [
        "udf_map_mes = udf(lambda x:mapMes(x),StringType() )\n",
        "\n",
        "def mapMes(x):\n",
        "  return map_mes[x]\n",
        "\n",
        "df2 = df2.withColumn(\"MES\",udf_map_mes(col(\"MES\"))).select(\"*\")\n",
        "df2 = df2.withColumn(\"DATA\", concat(lit(\"01/\"),col(\"MES\"),lit(\"/\"),col(\"ANO\")))\n",
        "df2 = df2.withColumn(\"year_month\", to_date(col(\"DATA\"), \"dd/MM/yyyy\"))\n"
      ],
      "metadata": {
        "id": "eIH2IbMhg9ld"
      },
      "execution_count": 181,
      "outputs": []
    },
    {
      "cell_type": "code",
      "source": [
        "df2.show()"
      ],
      "metadata": {
        "colab": {
          "base_uri": "https://localhost:8080/"
        },
        "id": "-P4k7E5QkzMT",
        "outputId": "0505b70e-ec4c-401d-c92a-9bcc6eb6c28f"
      },
      "execution_count": 182,
      "outputs": [
        {
          "output_type": "stream",
          "name": "stdout",
          "text": [
            "+---------------+----+------------+--------+-------+---+---------+----------+----------+\n",
            "|    COMBUSTÍVEL| ANO|      REGIÃO|  ESTADO|UNIDADE|MES|   VOLUME|      DATA|year_month|\n",
            "+---------------+----+------------+--------+-------+---+---------+----------+----------+\n",
            "|GASOLINA C (m3)|2000|REGIÃO NORTE|RONDÔNIA|     m3| 01| 9563.263|01/01/2000|2000-01-01|\n",
            "|GASOLINA C (m3)|2000|REGIÃO NORTE|RONDÔNIA|     m3| 02|11341.229|01/02/2000|2000-02-01|\n",
            "|GASOLINA C (m3)|2000|REGIÃO NORTE|RONDÔNIA|     m3| 03| 9369.746|01/03/2000|2000-03-01|\n",
            "|GASOLINA C (m3)|2000|REGIÃO NORTE|RONDÔNIA|     m3| 04|10719.983|01/04/2000|2000-04-01|\n",
            "|GASOLINA C (m3)|2000|REGIÃO NORTE|RONDÔNIA|     m3| 05|11165.968|01/05/2000|2000-05-01|\n",
            "|GASOLINA C (m3)|2000|REGIÃO NORTE|RONDÔNIA|     m3| 06|12312.451|01/06/2000|2000-06-01|\n",
            "|GASOLINA C (m3)|2000|REGIÃO NORTE|RONDÔNIA|     m3| 07| 11220.97|01/07/2000|2000-07-01|\n",
            "|GASOLINA C (m3)|2000|REGIÃO NORTE|RONDÔNIA|     m3| 08|12482.281|01/08/2000|2000-08-01|\n",
            "|GASOLINA C (m3)|2000|REGIÃO NORTE|RONDÔNIA|     m3| 09|13591.122|01/09/2000|2000-09-01|\n",
            "|GASOLINA C (m3)|2000|REGIÃO NORTE|RONDÔNIA|     m3| 10| 11940.57|01/10/2000|2000-10-01|\n",
            "|GASOLINA C (m3)|2000|REGIÃO NORTE|RONDÔNIA|     m3| 11|11547.576|01/11/2000|2000-11-01|\n",
            "|GASOLINA C (m3)|2000|REGIÃO NORTE|RONDÔNIA|     m3| 12|10818.094|01/12/2000|2000-12-01|\n",
            "|GASOLINA C (m3)|2000|REGIÃO NORTE|    ACRE|     m3| 01| 3065.758|01/01/2000|2000-01-01|\n",
            "|GASOLINA C (m3)|2000|REGIÃO NORTE|    ACRE|     m3| 02|  3495.29|01/02/2000|2000-02-01|\n",
            "|GASOLINA C (m3)|2000|REGIÃO NORTE|    ACRE|     m3| 03|  2946.93|01/03/2000|2000-03-01|\n",
            "|GASOLINA C (m3)|2000|REGIÃO NORTE|    ACRE|     m3| 04|  3023.92|01/04/2000|2000-04-01|\n",
            "|GASOLINA C (m3)|2000|REGIÃO NORTE|    ACRE|     m3| 05|  3206.93|01/05/2000|2000-05-01|\n",
            "|GASOLINA C (m3)|2000|REGIÃO NORTE|    ACRE|     m3| 06|  3612.58|01/06/2000|2000-06-01|\n",
            "|GASOLINA C (m3)|2000|REGIÃO NORTE|    ACRE|     m3| 07|  3264.46|01/07/2000|2000-07-01|\n",
            "|GASOLINA C (m3)|2000|REGIÃO NORTE|    ACRE|     m3| 08|  3835.74|01/08/2000|2000-08-01|\n",
            "+---------------+----+------------+--------+-------+---+---------+----------+----------+\n",
            "only showing top 20 rows\n",
            "\n"
          ]
        }
      ]
    },
    {
      "cell_type": "code",
      "source": [
        "df2 = df2.withColumnRenamed('DATA','year_month').withColumnRenamed('COMBUSTÍVEL','product')\\\n",
        "        .withColumnRenamed('VOLUME','volume').withColumnRenamed('UNIDADE','unit').withColumnRenamed('ESTADO','uf')\\\n",
        "        .drop(*('MES', 'REGIÃO', 'ANO'))"
      ],
      "metadata": {
        "id": "51YsyJC9rsSb"
      },
      "execution_count": 183,
      "outputs": []
    },
    {
      "cell_type": "code",
      "source": [
        "df2 = df2.withColumn(\"created_at\", F.current_date())"
      ],
      "metadata": {
        "id": "vqMqniUjzwOo"
      },
      "execution_count": 186,
      "outputs": []
    },
    {
      "cell_type": "code",
      "source": [
        "df2.show()"
      ],
      "metadata": {
        "colab": {
          "base_uri": "https://localhost:8080/"
        },
        "id": "Cqoe0zSN0zXC",
        "outputId": "8e5375ea-6da9-4edf-e843-1aa4921104d0"
      },
      "execution_count": 187,
      "outputs": [
        {
          "output_type": "stream",
          "name": "stdout",
          "text": [
            "+---------------+--------+----+---------+----------+----------+----------+\n",
            "|        product|      uf|unit|   volume|year_month|year_month|created_at|\n",
            "+---------------+--------+----+---------+----------+----------+----------+\n",
            "|GASOLINA C (m3)|RONDÔNIA|  m3| 9563.263|01/01/2000|2000-01-01|2022-03-09|\n",
            "|GASOLINA C (m3)|RONDÔNIA|  m3|11341.229|01/02/2000|2000-02-01|2022-03-09|\n",
            "|GASOLINA C (m3)|RONDÔNIA|  m3| 9369.746|01/03/2000|2000-03-01|2022-03-09|\n",
            "|GASOLINA C (m3)|RONDÔNIA|  m3|10719.983|01/04/2000|2000-04-01|2022-03-09|\n",
            "|GASOLINA C (m3)|RONDÔNIA|  m3|11165.968|01/05/2000|2000-05-01|2022-03-09|\n",
            "|GASOLINA C (m3)|RONDÔNIA|  m3|12312.451|01/06/2000|2000-06-01|2022-03-09|\n",
            "|GASOLINA C (m3)|RONDÔNIA|  m3| 11220.97|01/07/2000|2000-07-01|2022-03-09|\n",
            "|GASOLINA C (m3)|RONDÔNIA|  m3|12482.281|01/08/2000|2000-08-01|2022-03-09|\n",
            "|GASOLINA C (m3)|RONDÔNIA|  m3|13591.122|01/09/2000|2000-09-01|2022-03-09|\n",
            "|GASOLINA C (m3)|RONDÔNIA|  m3| 11940.57|01/10/2000|2000-10-01|2022-03-09|\n",
            "|GASOLINA C (m3)|RONDÔNIA|  m3|11547.576|01/11/2000|2000-11-01|2022-03-09|\n",
            "|GASOLINA C (m3)|RONDÔNIA|  m3|10818.094|01/12/2000|2000-12-01|2022-03-09|\n",
            "|GASOLINA C (m3)|    ACRE|  m3| 3065.758|01/01/2000|2000-01-01|2022-03-09|\n",
            "|GASOLINA C (m3)|    ACRE|  m3|  3495.29|01/02/2000|2000-02-01|2022-03-09|\n",
            "|GASOLINA C (m3)|    ACRE|  m3|  2946.93|01/03/2000|2000-03-01|2022-03-09|\n",
            "|GASOLINA C (m3)|    ACRE|  m3|  3023.92|01/04/2000|2000-04-01|2022-03-09|\n",
            "|GASOLINA C (m3)|    ACRE|  m3|  3206.93|01/05/2000|2000-05-01|2022-03-09|\n",
            "|GASOLINA C (m3)|    ACRE|  m3|  3612.58|01/06/2000|2000-06-01|2022-03-09|\n",
            "|GASOLINA C (m3)|    ACRE|  m3|  3264.46|01/07/2000|2000-07-01|2022-03-09|\n",
            "|GASOLINA C (m3)|    ACRE|  m3|  3835.74|01/08/2000|2000-08-01|2022-03-09|\n",
            "+---------------+--------+----+---------+----------+----------+----------+\n",
            "only showing top 20 rows\n",
            "\n"
          ]
        }
      ]
    },
    {
      "cell_type": "code",
      "source": [
        "\n",
        "output_file_name = \"data_{}.parquet\".format(datetime.datetime.now().strftime(\"%Y%m%d-%H%M%S\"))\n",
        "df.write.parquet(output_file_name)"
      ],
      "metadata": {
        "id": "fTc8DmQKpijG"
      },
      "execution_count": 193,
      "outputs": []
    },
    {
      "cell_type": "code",
      "source": [
        "df2 = df2.withColumn(\"DATA\", concat(lit(\"1/\"),col(\"MES\"),lit(\"/\"),col(\"ANO\")))"
      ],
      "metadata": {
        "id": "rbHP6BlDmgH-"
      },
      "execution_count": null,
      "outputs": []
    }
  ]
}